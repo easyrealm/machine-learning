{
 "cells": [
  {
   "cell_type": "markdown",
   "metadata": {},
   "source": [
    "### Q-Learning for Tic-tac-toe game"
   ]
  },
  {
   "cell_type": "code",
   "execution_count": null,
   "metadata": {},
   "outputs": [],
   "source": [
    "from tictactoe import TicTacToe, QLearningAgent"
   ]
  },
  {
   "cell_type": "code",
   "execution_count": null,
   "metadata": {},
   "outputs": [],
   "source": [
    "class QLearningSimulation:\n",
    "    def __init__(self, episodes, env, agent):\n",
    "        self.episodes = episodes\n",
    "        self.env = env\n",
    "        self.agent = agent\n",
    "\n",
    "    def train(self):\n",
    "        for episode in range(self.episodes):\n",
    "            state = self.env.reset()\n",
    "            done = False\n",
    "            while not done:\n",
    "                available_actions =  self.env.get_available_actions()\n",
    "                action = self.agent.choose_action(state, available_actions)\n",
    "                next_state, reward, done = self.env.step(action)\n",
    "                self.agent.update_q(state, action, reward, next_state, done)\n",
    "                state = next_state"
   ]
  },
  {
   "cell_type": "code",
   "execution_count": null,
   "metadata": {},
   "outputs": [],
   "source": [
    "episodes = 1000\n",
    "env = TicTacToe()\n",
    "learning_rate = 0.01\n",
    "discount_factor = 0.89\n",
    "epsilon = 0.5\n",
    "agent = QLearningAgent(learning_rate=learning_rate, discount_factor=discount_factor, epsilon=epsilon)\n",
    "simulator = QLearningSimulation(episodes=episodes, env=env, agent=agent)\n",
    "\n",
    "# train agent\n",
    "simulator.train()"
   ]
  },
  {
   "cell_type": "markdown",
   "metadata": {},
   "source": [
    "#### Play the game against random strategy"
   ]
  },
  {
   "cell_type": "code",
   "execution_count": null,
   "metadata": {},
   "outputs": [],
   "source": [
    "import random\n",
    "\n",
    "def random_strategy(available_actions):\n",
    "    return random.choice(available_actions)\n",
    "\n",
    "def play_game(env, agent, strategy):\n",
    "    state = env.reset()\n",
    "    done = False\n",
    "    reward = 0\n",
    "\n",
    "    while not done:\n",
    "        available_actions = env.get_available_actions()\n",
    "        if env.current_player == 1:\n",
    "            action = agent.choose_action(state, available_actions)\n",
    "        else:\n",
    "            action = strategy(available_actions)\n",
    "        state, reward, done = env.step(action)\n",
    "    return reward\n",
    "\n",
    "test_agent = QLearningAgent()\n",
    "test_agent.q = agent.q\n",
    "\n",
    "env = TicTacToe()\n",
    "num_of_games = 1000\n",
    "outcomes = []\n",
    "\n",
    "for _ in range(num_of_games):\n",
    "    outcome = play_game(env=env, agent=test_agent, strategy=random_strategy)\n",
    "    outcomes.append(outcome)\n",
    "\n",
    "wins = [o for o in outcomes if o == 1]\n",
    "draws = [o for o in outcomes if o == 0.5]\n",
    "\n",
    "print(f'Number of wins: {len(wins)}')\n",
    "print(f'Number of draws: {len(draws)}')\n",
    "print(f'Percentage optimal play: {100 * (len(wins) + len(draws))/len(outcomes)}')\n"
   ]
  }
 ],
 "metadata": {
  "kernelspec": {
   "display_name": "py38",
   "language": "python",
   "name": "python3"
  },
  "language_info": {
   "codemirror_mode": {
    "name": "ipython",
    "version": 3
   },
   "file_extension": ".py",
   "mimetype": "text/x-python",
   "name": "python",
   "nbconvert_exporter": "python",
   "pygments_lexer": "ipython3",
   "version": "3.8.18"
  }
 },
 "nbformat": 4,
 "nbformat_minor": 2
}
