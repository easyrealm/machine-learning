{
 "cells": [
  {
   "cell_type": "markdown",
   "metadata": {},
   "source": [
    "### Learning Spectrum Availability using Reinforcement Learning\n",
    "We are using reinforcement learning technique known as Q-Learning to learn spectrum availability in a predefined spectrum environment. Here are some assumptions about the spectrum environment:\n",
    "- The spectrum environment consist of slots.\n",
    "- Being in a slot is considered being a state.\n",
    "- A transmitter in a slot may decided to transit or stay idle.\n",
    "- There is an associated penalty for not transmitting.\n",
    "- Transmitting with no collision attracts a reward\n",
    "- Transmitting with collision results in a penalty.\n",
    "- Rounds to transmit or not transmit in slots are termed episodes.\n",
    "- A terminal state in an episode is when an action to transmit results in a collision.\n",
    "\n",
    "\n",
    "\n"
   ]
  },
  {
   "cell_type": "code",
   "execution_count": 75,
   "metadata": {},
   "outputs": [],
   "source": [
    "import numpy as np\n",
    "\n",
    "NOTRANSMIT_PENALTY = -1\n",
    "COLLISION_PENALTY = -5\n",
    "TRANSMIT_REWARD = 10\n",
    "\n",
    "class ChannelSpectrumEnv:\n",
    "    def __init__(self, num_slots, busy_prob):\n",
    "        self.num_slots = num_slots\n",
    "        self.busy_prob = busy_prob\n",
    "        self.state = 0\n",
    "        self.actions = [0,1]\n",
    "        self.reward_table = np.zeros((num_slots, 2))\n",
    "        self.q_table = np.zeros((num_slots,2))\n",
    "\n",
    "        np.random.seed(42)\n",
    "        \n",
    "        for i in range(self.num_slots):\n",
    "            self.reward_table[i][0] = NOTRANSMIT_PENALTY\n",
    "            self.reward_table[i][1] = TRANSMIT_REWARD if np.random.uniform(0,1) > busy_prob else COLLISION_PENALTY\n",
    "\n",
    "        # print(self.reward_table)\n",
    "\n",
    "    def reset(self):\n",
    "        self.state = 0\n",
    "        return self.state\n",
    "    \n",
    "    def step(self, action):\n",
    "        done = False\n",
    "        reward = self.reward_table[self.state][action]\n",
    "\n",
    "        if action == 1 and reward == COLLISION_PENALTY:\n",
    "            done = True\n",
    "            next_state = self.state\n",
    "        else:\n",
    "            next_state = self.state + 1 if self.state < self.num_slots - 1 else 0\n",
    "\n",
    "        self.state = next_state\n",
    "        return next_state, reward, done\n",
    "    \n",
    "    def get_optimal_policy(self):\n",
    "        return np.argmax(self.q_table, axis=1)\n",
    "    \n",
    "\n",
    "    def train(self, episodes, learning_rate=0.01, discount_factor=0.95, epsilon=0.1):\n",
    "        for episode in range(episodes):\n",
    "            state = self.reset()\n",
    "            done = False\n",
    "            while not done:\n",
    "                # exploration vs exploitation\n",
    "                if np.random.uniform(0,1) < epsilon:\n",
    "                    action = np.random.choice(self.actions)\n",
    "                else:\n",
    "                    action = np.argmax(self.q_table[state])\n",
    "                \n",
    "                # take a step\n",
    "                next_state, reward, done = self.step(action)\n",
    "\n",
    "                # update q-table using the  Q-Learning equation\n",
    "                self.q_table[state][action] += learning_rate * (reward + discount_factor * np.max(self.q_table[next_state]) - self.q_table[state][action])\n",
    "\n",
    "                state = next_state\n"
   ]
  },
  {
   "cell_type": "code",
   "execution_count": 76,
   "metadata": {},
   "outputs": [
    {
     "name": "stdout",
     "output_type": "stream",
     "text": [
      "Optimal policy: [1 1 1 1 0 0 0 1 1 1]\n",
      "Q-table: [[125.30819191 136.30819191]\n",
      " [121.95599148 132.95599148]\n",
      " [118.42735946 129.42735946]\n",
      " [114.71300996 125.71300996]\n",
      " [121.80316837 110.71300996]\n",
      " [129.26649303 117.80316837]\n",
      " [137.12262424 125.26649303]\n",
      " [134.39223604 145.39223604]\n",
      " [131.5181432  142.5181432 ]\n",
      " [128.49278231 139.49278232]]\n"
     ]
    }
   ],
   "source": [
    "# Example usage:\n",
    "num_slots = 10\n",
    "busy_prob = 0.3\n",
    "episodes = 10000\n",
    "\n",
    "env = ChannelSpectrumEnv(num_slots, busy_prob)\n",
    "env.train(episodes)\n",
    "\n",
    "print(\"Optimal policy:\", env.get_optimal_policy())\n",
    "print(f\"Q-table: {env.q_table}\")\n",
    "print(f'Rewards table: {env.reward_table}')"
   ]
  }
 ],
 "metadata": {
  "kernelspec": {
   "display_name": "py38",
   "language": "python",
   "name": "python3"
  },
  "language_info": {
   "codemirror_mode": {
    "name": "ipython",
    "version": 3
   },
   "file_extension": ".py",
   "mimetype": "text/x-python",
   "name": "python",
   "nbconvert_exporter": "python",
   "pygments_lexer": "ipython3",
   "version": "3.8.18"
  }
 },
 "nbformat": 4,
 "nbformat_minor": 2
}
