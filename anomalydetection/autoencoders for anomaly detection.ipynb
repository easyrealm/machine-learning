{
 "cells": [
  {
   "cell_type": "markdown",
   "metadata": {},
   "source": [
    "# Anomaly detection using AutoEncoders"
   ]
  },
  {
   "cell_type": "code",
   "execution_count": 1,
   "metadata": {},
   "outputs": [
    {
     "name": "stderr",
     "output_type": "stream",
     "text": [
      "2024-02-06 19:27:21.333141: I tensorflow/core/platform/cpu_feature_guard.cc:182] This TensorFlow binary is optimized to use available CPU instructions in performance-critical operations.\n",
      "To enable the following instructions: AVX2 FMA, in other operations, rebuild TensorFlow with the appropriate compiler flags.\n"
     ]
    }
   ],
   "source": [
    "# import the necessary libraries\n",
    "import numpy as np\n",
    "import matplotlib.pyplot as plt\n",
    "import tensorflow as tf\n",
    "from tensorflow.keras import layers, models, datasets"
   ]
  },
  {
   "cell_type": "code",
   "execution_count": 4,
   "metadata": {},
   "outputs": [
    {
     "name": "stdout",
     "output_type": "stream",
     "text": [
      "(60000, 28, 28)\n"
     ]
    }
   ],
   "source": [
    "# Load data from MNIST dataset - a dataset of handwritten digits\n",
    "(train_dataset, _), (test_dataset, _) = datasets.mnist.load_data()\n",
    "print(train_dataset.shape)\n",
    "\n",
    "# Convert the data type of datasets\n",
    "train_dataset = train_dataset.astype('float32') / 256\n",
    "test_dataset = test_dataset.astype('float32') / 256\n",
    "\n",
    "# Reshape the dataset\n",
    "# reshape function signature: reshape(number of samples, height, width, channels)\n",
    "# number of samples = 60k\n",
    "# image dimension = 28x28\n",
    "# channels = 1 (grayscale images; 3 for RGB) \n",
    "train_dataset = train_dataset.reshape(train_dataset.shape[0], 28, 28, 1)\n",
    "test_dataset = test_dataset.reshape(test_dataset.shape[0], 28, 28, 1)"
   ]
  },
  {
   "cell_type": "code",
   "execution_count": 5,
   "metadata": {},
   "outputs": [],
   "source": [
    "# Define model architecture\n",
    "input_shape = (28,28,1)\n",
    "latent_dim = 32"
   ]
  },
  {
   "cell_type": "code",
   "execution_count": 6,
   "metadata": {},
   "outputs": [],
   "source": [
    "# Encoder \n",
    "# Transforms input data into a latent space (bottleneck or compressed) representation\n",
    "# Convolutional layer is used to extract and capture spatial features from input data (images)\n",
    "# MaxPooling layer is used for downsampling and reducing the spatial dimensions while retaining important features\n",
    "# After applying convolutional and pooling layers for feature extraction, the output is flattened using layers.Flatten\n",
    "# Dense  layers - transforms extracted features into a smaller, compressed representation (latent space) using the latent_dim\n",
    "encoder =  models.Sequential([\n",
    "    layers.Input(shape=input_shape),\n",
    "    # Conv2D(filters=dim of output space, kernel_size of convolution window, activation, padding)\n",
    "    layers.Conv2D(16, (3,3), activation='relu', padding='same'),\n",
    "    layers.MaxPooling2D((2,2), padding='same'),\n",
    "    layers.Conv2D(8, (3,3), activation='relu', padding='same'),\n",
    "    layers.MaxPooling2D((2,2), padding='same'),\n",
    "    layers.Flatten(), #  transforms multi-dimensional array into a one-dimensional array\n",
    "    layers.Dense(latent_dim, activation='relu')\n",
    "])\n",
    "\n",
    "# Decoder \n",
    "# reconstructs the original input from the latent space representation\n",
    "# Conv2DTranspose layer does the inverse operation to the Conv2D layer\n",
    "decoder = models.Sequential([\n",
    "    layers.Input(shape=(latent_dim,)),\n",
    "    layers.Dense(392, activation='relu'),\n",
    "    layers.Reshape((7,7,8)),\n",
    "    layers.Conv2DTranspose(8, (3,3), activation='relu', padding='same'),\n",
    "    layers.UpSampling2D((2,2)),\n",
    "    layers.Conv2DTranspose(16, (3,3), activation='relu', padding='same'),\n",
    "    layers.UpSampling2D((2,2)),\n",
    "    layers.Conv2DTranspose(1,(3,3), activation='sigmoid', padding='same')\n",
    "])\n",
    "\n",
    "# Combine Encoder and Decoder\n",
    "autoencoder = models.Sequential([encoder, decoder])\n",
    "\n",
    "# Compile the model, specifying the loss function and optimization method  \n",
    "autoencoder.compile(optimizer='adam', loss='binary_crossentropy')"
   ]
  },
  {
   "cell_type": "code",
   "execution_count": 7,
   "metadata": {},
   "outputs": [
    {
     "name": "stdout",
     "output_type": "stream",
     "text": [
      "Epoch 1/10\n",
      "469/469 [==============================] - 31s 63ms/step - loss: 0.2098 - val_loss: 0.1383\n",
      "Epoch 2/10\n",
      "469/469 [==============================] - 30s 63ms/step - loss: 0.1294 - val_loss: 0.1197\n",
      "Epoch 3/10\n",
      "469/469 [==============================] - 29s 61ms/step - loss: 0.1165 - val_loss: 0.1116\n",
      "Epoch 4/10\n",
      "469/469 [==============================] - 27s 58ms/step - loss: 0.1107 - val_loss: 0.1074\n",
      "Epoch 5/10\n",
      "469/469 [==============================] - 28s 60ms/step - loss: 0.1073 - val_loss: 0.1051\n",
      "Epoch 6/10\n",
      "469/469 [==============================] - 27s 58ms/step - loss: 0.1050 - val_loss: 0.1026\n",
      "Epoch 7/10\n",
      "469/469 [==============================] - 28s 60ms/step - loss: 0.1033 - val_loss: 0.1013\n",
      "Epoch 8/10\n",
      "469/469 [==============================] - 28s 59ms/step - loss: 0.1018 - val_loss: 0.0997\n",
      "Epoch 9/10\n",
      "469/469 [==============================] - 27s 58ms/step - loss: 0.1008 - val_loss: 0.0991\n",
      "Epoch 10/10\n",
      "469/469 [==============================] - 27s 57ms/step - loss: 0.0999 - val_loss: 0.0983\n"
     ]
    },
    {
     "data": {
      "text/plain": [
       "<keras.src.callbacks.History at 0x7fc304294d00>"
      ]
     },
     "execution_count": 7,
     "metadata": {},
     "output_type": "execute_result"
    }
   ],
   "source": [
    "# Training the autoencoder\n",
    "autoencoder.fit(train_dataset, train_dataset, epochs=10, batch_size=128, shuffle=True, validation_data=(test_dataset, test_dataset))"
   ]
  },
  {
   "cell_type": "code",
   "execution_count": 8,
   "metadata": {},
   "outputs": [
    {
     "name": "stdout",
     "output_type": "stream",
     "text": [
      "313/313 [==============================] - 2s 7ms/step\n",
      "Reconstruction error threshold 0.024204150773584843\n"
     ]
    }
   ],
   "source": [
    "# test reconstructed images using test_dataset\n",
    "reconstructed_imgs = autoencoder.predict(test_dataset)\n",
    "\n",
    "# compute reconstruction errors\n",
    "mse = np.mean(np.square(test_dataset - reconstructed_imgs),axis=(1,2,3))\n",
    "\n",
    "# set threshold\n",
    "threshold = np.mean(mse) + 2 * np.std(mse)\n",
    "\n",
    "# Print threshold\n",
    "print(f\"Reconstruction error threshold {threshold}\")"
   ]
  },
  {
   "cell_type": "code",
   "execution_count": 9,
   "metadata": {},
   "outputs": [
    {
     "data": {
      "image/png": "[encoded data removed]",
      "text/plain": [
       "<Figure size 2000x400 with 20 Axes>"
      ]
     },
     "metadata": {},
     "output_type": "display_data"
    }
   ],
   "source": [
    "# Plot some test data and their representation\n",
    "n = 10\n",
    "plt.figure(figsize=(20,4))\n",
    "for i in range(n):\n",
    "    # Display Original image\n",
    "    ax = plt.subplot(2, n, i + 1)\n",
    "    plt.imshow(test_dataset[i].reshape(28,28))\n",
    "    plt.gray()\n",
    "    ax.get_xaxis().set_visible(False)\n",
    "    ax.get_yaxis().set_visible(False)\n",
    "\n",
    "    # Display Reconstructed Image\n",
    "    ax = plt.subplot(2, n, i + 1 + n)\n",
    "    plt.imshow(reconstructed_imgs[i].reshape(28,28))\n",
    "    plt.gray()\n",
    "    ax.get_xaxis().set_visible(False)\n",
    "    ax.get_yaxis().set_visible(False)\n",
    "\n",
    "plt.show()"
   ]
  },
  {
   "cell_type": "code",
   "execution_count": 24,
   "metadata": {},
   "outputs": [
    {
     "name": "stdout",
     "output_type": "stream",
     "text": [
      "Anomalies detected: 378\n",
      "Indices of anomalies: [  18   54   72   87   95  149  151  245  247  268  290  341  366  391\n",
      "  402  425  431  527  528  543  596  629  631  655  717  744  787  810\n",
      "  841  844  856  876  895  926  975  991 1017 1028 1044 1074 1118 1125\n",
      " 1156 1170 1178 1187 1198 1202 1248 1281 1325 1364 1395 1438 1464 1499\n",
      " 1506 1509 1526 1549 1609 1610 1663 1682 1737 1754 1758 1782 1882 1930\n",
      " 1941 1960 1969 1984 2004 2009 2093 2099 2118 2145 2179 2222 2224 2229\n",
      " 2247 2272 2291 2298 2325 2350 2371 2422 2425 2436 2488 2535 2574 2597\n",
      " 2621 2667 2697 2702 2711 2774 2802 2864 2881 2929 2970 2975 3030 3033\n",
      " 3037 3069 3073 3122 3198 3205 3206 3222 3239 3260 3263 3269 3284 3290\n",
      " 3295 3364 3394 3416 3456 3474 3534 3542 3543 3555 3559 3567 3575 3576\n",
      " 3583 3604 3627 3665 3674 3683 3705 3708 3727 3749 3757 3767 3774 3778\n",
      " 3782 3813 3817 3820 3829 3835 3846 3893 3901 3921 3932 3951 3958 3963\n",
      " 4018 4041 4065 4086 4112 4117 4123 4140 4187 4193 4230 4253 4341 4343\n",
      " 4374 4439 4444 4449 4463 4499 4562 4601 4629 4654 4713 4723 4765 4814\n",
      " 4852 4878 4888 4899 4950 4956 5011 5038 5046 5054 5067 5078 5098 5140\n",
      " 5143 5163 5165 5204 5209 5293 5449 5502 5593 5597 5607 5617 5626 5631\n",
      " 5634 5667 5673 5676 5695 5698 5717 5718 5754 5840 5841 5843 5878 5883\n",
      " 5888 5905 5907 5912 5913 6041 6085 6154 6238 6386 6390 6391 6403 6460\n",
      " 6480 6492 6494 6495 6555 6560 6603 6641 6645 6657 6664 6693 6761 6785\n",
      " 6797 6826 6872 7002 7011 7213 7412 7481 7502 7619 7627 7637 7678 7683\n",
      " 7687 7710 7713 7718 7720 7724 7858 7859 7905 7948 8047 8112 8116 8183\n",
      " 8196 8217 8254 8256 8258 8272 8276 8277 8287 8290 8293 8294 8296 8300\n",
      " 8301 8308 8318 8326 8330 8332 8337 8339 8353 8374 8440 8453 8530 8553\n",
      " 8554 8561 8562 8570 8572 8579 8588 8602 8637 8646 8669 8867 8975 9008\n",
      " 9022 9240 9263 9309 9316 9427 9470 9494 9535 9595 9596 9619 9624 9629\n",
      " 9636 9672 9673 9688 9691 9695 9697 9738 9742 9745 9749 9750 9751 9752\n",
      " 9768 9770 9777 9779 9783 9904 9910 9924 9926 9937 9944 9948 9954 9980]\n"
     ]
    }
   ],
   "source": [
    "# Identify anomalies using the threshold\n",
    "anomalies = np.where(mse > threshold)[0]\n",
    "print(f\"Anomalies detected: {len(anomalies)}\")\n",
    "print(f\"Indices of anomalies: {anomalies}\")"
   ]
  }
 ],
 "metadata": {
  "kernelspec": {
   "display_name": "py38",
   "language": "python",
   "name": "python3"
  },
  "language_info": {
   "codemirror_mode": {
    "name": "ipython",
    "version": 3
   },
   "file_extension": ".py",
   "mimetype": "text/x-python",
   "name": "python",
   "nbconvert_exporter": "python",
   "pygments_lexer": "ipython3",
   "version": "3.8.18"
  }
 },
 "nbformat": 4,
 "nbformat_minor": 2
}
